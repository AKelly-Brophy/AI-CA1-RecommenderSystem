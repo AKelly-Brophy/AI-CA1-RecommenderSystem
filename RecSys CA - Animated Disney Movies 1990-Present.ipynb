{
 "cells": [
  {
   "cell_type": "code",
   "execution_count": 1,
   "id": "8b126ca7",
   "metadata": {},
   "outputs": [],
   "source": [
    "import numpy as np\n",
    "import pandas as pd\n",
    "\n",
    "from sklearn.metrics.pairwise import cosine_similarity\n",
    "from sklearn.metrics import mean_squared_error\n",
    "from sklearn.model_selection import train_test_split\n",
    "from sklearn.feature_extraction.text import TfidfVectorizer\n",
    "from sklearn.metrics.pairwise import linear_kernel\n",
    "\n",
    "#'movies' dataframe\n",
    "movies = pd.read_csv(\"C:\\\\Users\\\\Aisling\\\\Documents\\\\Python Exercises\\\\walt_disney_animated_movies_1990_present.csv\")"
   ]
  },
  {
   "cell_type": "code",
   "execution_count": 2,
   "id": "704ce825",
   "metadata": {},
   "outputs": [
    {
     "data": {
      "text/plain": [
       "'The R.A.S. agents, Miss Bianca and Bernard, race to Australia to save a little boy and a rare golden eagle from a murderous poacher.'"
      ]
     },
     "execution_count": 2,
     "metadata": {},
     "output_type": "execute_result"
    }
   ],
   "source": [
    "movies['overview'][0]"
   ]
  },
  {
   "cell_type": "code",
   "execution_count": 3,
   "id": "bd4c7008",
   "metadata": {},
   "outputs": [
    {
     "data": {
      "text/plain": [
       "(78, 856)"
      ]
     },
     "execution_count": 3,
     "metadata": {},
     "output_type": "execute_result"
    }
   ],
   "source": [
    "##Recommend movies based on plot##\n",
    "\n",
    "tfidf = TfidfVectorizer(stop_words='english')\n",
    "\n",
    "movies['overview'] = movies['overview'].fillna('')\n",
    "\n",
    "overview_matrix = tfidf.fit_transform(movies['overview'])\n",
    "\n",
    "overview_matrix.shape"
   ]
  },
  {
   "cell_type": "code",
   "execution_count": 4,
   "id": "4db2f2cf",
   "metadata": {},
   "outputs": [
    {
     "data": {
      "text/plain": [
       "array([[1.        , 0.        , 0.        , ..., 0.01603651, 0.        ,\n",
       "        0.        ],\n",
       "       [0.        , 1.        , 0.        , ..., 0.04522255, 0.        ,\n",
       "        0.        ],\n",
       "       [0.        , 0.        , 1.        , ..., 0.        , 0.        ,\n",
       "        0.        ],\n",
       "       ...,\n",
       "       [0.01603651, 0.04522255, 0.        , ..., 1.        , 0.        ,\n",
       "        0.        ],\n",
       "       [0.        , 0.        , 0.        , ..., 0.        , 0.        ,\n",
       "        0.        ],\n",
       "       [0.        , 0.        , 0.        , ..., 0.        , 0.        ,\n",
       "        0.        ]])"
      ]
     },
     "execution_count": 4,
     "metadata": {},
     "output_type": "execute_result"
    }
   ],
   "source": [
    "similarity_matrix = linear_kernel(overview_matrix, overview_matrix)\n",
    "similarity_matrix"
   ]
  },
  {
   "cell_type": "code",
   "execution_count": 5,
   "id": "d7e28f16",
   "metadata": {},
   "outputs": [
    {
     "data": {
      "text/plain": [
       "title\n",
       "The Rescuers Down Under      0\n",
       "Beauty and the Beast         1\n",
       "Aladdin                      2\n",
       "The Lion King                3\n",
       "A Goofy Movie                4\n",
       "                            ..\n",
       "Onward                      73\n",
       "Soul                        74\n",
       "Raya and the Last Dragon    75\n",
       "NaN                         76\n",
       "NaN                         77\n",
       "Length: 78, dtype: int64"
      ]
     },
     "execution_count": 5,
     "metadata": {},
     "output_type": "execute_result"
    }
   ],
   "source": [
    "#movies index mapping\n",
    "\n",
    "mapping = pd.Series(movies.index, index = movies['title'])\n",
    "mapping"
   ]
  },
  {
   "cell_type": "code",
   "execution_count": 6,
   "id": "1fb379ea",
   "metadata": {},
   "outputs": [],
   "source": [
    "def recommend_movies_basedon_plot(movie_input):\n",
    "    \n",
    "    movie_index = mapping[movie_input]\n",
    "    \n",
    "    #get similarity values with other movies\n",
    "    similarity_score = list(enumerate(similarity_matrix[movie_index]))\n",
    "    \n",
    "    #sort in descending order the similarity score of the movie inputted with the other movies\n",
    "    similarity_score = sorted(similarity_score, key=lambda x: x[1], reverse=True)\n",
    "    \n",
    "    #get the scores of the 15 most similar movies\n",
    "    similarity_score = similarity_score[1:15]\n",
    "    \n",
    "    #return movie names using the mapping series\n",
    "    movie_indices = [i[0] for i in similarity_score]\n",
    "    return (movies['title'].iloc[movie_indices])"
   ]
  },
  {
   "cell_type": "code",
   "execution_count": 7,
   "id": "dae1ab3d",
   "metadata": {},
   "outputs": [
    {
     "data": {
      "text/plain": [
       "19               Monsters, Inc.\n",
       "57          Monsters University\n",
       "22                Spirited Away\n",
       "48                      Tangled\n",
       "1          Beauty and the Beast\n",
       "6                     Toy Story\n",
       "47          Tales from Earthsea\n",
       "30              The Incredibles\n",
       "65                 Finding Dory\n",
       "74                         Soul\n",
       "63            The Good Dinosaur\n",
       "68                         Coco\n",
       "69                Incredibles 2\n",
       "70    Ralph Breaks the Internet\n",
       "Name: title, dtype: object"
      ]
     },
     "execution_count": 7,
     "metadata": {},
     "output_type": "execute_result"
    }
   ],
   "source": [
    "recommend_movies_basedon_plot('Raya and the Last Dragon')"
   ]
  },
  {
   "cell_type": "code",
   "execution_count": 8,
   "id": "4d5e72fa",
   "metadata": {},
   "outputs": [
    {
     "data": {
      "text/plain": [
       "65                 Finding Dory\n",
       "4                 A Goofy Movie\n",
       "30              The Incredibles\n",
       "50                       Cars 2\n",
       "40                       WALL-E\n",
       "72                    Frozen II\n",
       "25           Piglet's Big Movie\n",
       "70    Ralph Breaks the Internet\n",
       "17         Recess: School's Out\n",
       "29            Home on the Range\n",
       "9                         Mulan\n",
       "0       The Rescuers Down Under\n",
       "10                 A Bug's Life\n",
       "69                Incredibles 2\n",
       "Name: title, dtype: object"
      ]
     },
     "execution_count": 8,
     "metadata": {},
     "output_type": "execute_result"
    }
   ],
   "source": [
    "recommend_movies_basedon_plot('Bolt')"
   ]
  },
  {
   "cell_type": "code",
   "execution_count": 9,
   "id": "631db9df",
   "metadata": {},
   "outputs": [
    {
     "data": {
      "text/plain": [
       "70    Ralph Breaks the Internet\n",
       "58                       Planes\n",
       "73                       Onward\n",
       "3                 The Lion King\n",
       "8                      Hercules\n",
       "45    The Princess and the Frog\n",
       "67                       Cars 3\n",
       "31       Pooh's Heffalump Movie\n",
       "1          Beauty and the Beast\n",
       "26                 Finding Nemo\n",
       "25           Piglet's Big Movie\n",
       "54                        Brave\n",
       "61                   Big Hero 6\n",
       "33                      Valiant\n",
       "Name: title, dtype: object"
      ]
     },
     "execution_count": 9,
     "metadata": {},
     "output_type": "execute_result"
    }
   ],
   "source": [
    "recommend_movies_basedon_plot('Wreck-It Ralph')"
   ]
  },
  {
   "cell_type": "code",
   "execution_count": 10,
   "id": "ddc3a8a5",
   "metadata": {},
   "outputs": [
    {
     "data": {
      "text/plain": [
       "12                      Tarzan\n",
       "30             The Incredibles\n",
       "27                Brother Bear\n",
       "65                Finding Dory\n",
       "75    Raya and the Last Dragon\n",
       "72                   Frozen II\n",
       "63           The Good Dinosaur\n",
       "67                      Cars 3\n",
       "58                      Planes\n",
       "62                  Inside Out\n",
       "52                    Arrietty\n",
       "20        Return to Never Land\n",
       "22               Spirited Away\n",
       "54                       Brave\n",
       "Name: title, dtype: object"
      ]
     },
     "execution_count": 10,
     "metadata": {},
     "output_type": "execute_result"
    }
   ],
   "source": [
    "recommend_movies_basedon_plot('Tangled')"
   ]
  },
  {
   "cell_type": "code",
   "execution_count": 11,
   "id": "117d8134",
   "metadata": {},
   "outputs": [
    {
     "data": {
      "text/plain": [
       "29              Home on the Range\n",
       "62                     Inside Out\n",
       "19                 Monsters, Inc.\n",
       "0         The Rescuers Down Under\n",
       "1            Beauty and the Beast\n",
       "2                         Aladdin\n",
       "3                   The Lion King\n",
       "4                   A Goofy Movie\n",
       "5                      Pocahontas\n",
       "6                       Toy Story\n",
       "7     The Hunchback of Notre Dame\n",
       "8                        Hercules\n",
       "9                           Mulan\n",
       "10                   A Bug's Life\n",
       "Name: title, dtype: object"
      ]
     },
     "execution_count": 11,
     "metadata": {},
     "output_type": "execute_result"
    }
   ],
   "source": [
    "recommend_movies_basedon_plot('Zootopia')"
   ]
  },
  {
   "cell_type": "code",
   "execution_count": 12,
   "id": "815582c8",
   "metadata": {},
   "outputs": [
    {
     "data": {
      "text/plain": [
       "(78, 118)"
      ]
     },
     "execution_count": 12,
     "metadata": {},
     "output_type": "execute_result"
    }
   ],
   "source": [
    "##Recommend movies based on director##\n",
    "\n",
    "tfidf = TfidfVectorizer(stop_words='english')\n",
    "\n",
    "movies['Directed by'] = movies['Directed by'].fillna('')\n",
    "\n",
    "dir_matrix = tfidf.fit_transform(movies['Directed by'])\n",
    "\n",
    "dir_matrix.shape"
   ]
  },
  {
   "cell_type": "code",
   "execution_count": 13,
   "id": "410e0492",
   "metadata": {},
   "outputs": [
    {
     "data": {
      "text/plain": [
       "array([[1., 0., 0., ..., 0., 0., 0.],\n",
       "       [0., 1., 0., ..., 0., 0., 0.],\n",
       "       [0., 0., 1., ..., 0., 0., 0.],\n",
       "       ...,\n",
       "       [0., 0., 0., ..., 1., 0., 0.],\n",
       "       [0., 0., 0., ..., 0., 0., 0.],\n",
       "       [0., 0., 0., ..., 0., 0., 0.]])"
      ]
     },
     "execution_count": 13,
     "metadata": {},
     "output_type": "execute_result"
    }
   ],
   "source": [
    "similarity_matrix_dir = linear_kernel(dir_matrix, dir_matrix)\n",
    "similarity_matrix_dir"
   ]
  },
  {
   "cell_type": "code",
   "execution_count": 14,
   "id": "3f61be37",
   "metadata": {},
   "outputs": [],
   "source": [
    "def recommend_movies_same_director(movie_input):\n",
    "    \n",
    "    #use mapping from earlier in code\n",
    "    movie_index = mapping[movie_input]\n",
    "    \n",
    "    #get movies with the same director\n",
    "    similarity_score_dir = list(enumerate(similarity_matrix_dir[movie_index]))\n",
    "    \n",
    "    #sort in descending order the similarity score of the movie inputted with the other movies\n",
    "    similarity_score_dir = sorted(similarity_score_dir, key=lambda x: x[1], reverse=True)\n",
    "    \n",
    "    #get the scores of the 5 movies with same director\n",
    "    similarity_score_dir = similarity_score_dir[1:5]\n",
    "    \n",
    "    #return movie names using the mapping series\n",
    "    movie_indices = [i[0] for i in similarity_score_dir]\n",
    "    return (movies['title'].iloc[movie_indices])"
   ]
  },
  {
   "cell_type": "code",
   "execution_count": 15,
   "id": "518555e5",
   "metadata": {},
   "outputs": [
    {
     "data": {
      "text/plain": [
       "41                       Bolt\n",
       "64                   Zootopia\n",
       "0     The Rescuers Down Under\n",
       "1        Beauty and the Beast\n",
       "Name: title, dtype: object"
      ]
     },
     "execution_count": 15,
     "metadata": {},
     "output_type": "execute_result"
    }
   ],
   "source": [
    "recommend_movies_same_director('Tangled')"
   ]
  },
  {
   "cell_type": "code",
   "execution_count": 16,
   "id": "a4629265",
   "metadata": {},
   "outputs": [
    {
     "data": {
      "text/plain": [
       "10    A Bug's Life\n",
       "13     Toy Story 2\n",
       "36            Cars\n",
       "50          Cars 2\n",
       "Name: title, dtype: object"
      ]
     },
     "execution_count": 16,
     "metadata": {},
     "output_type": "execute_result"
    }
   ],
   "source": [
    "recommend_movies_same_director('Toy Story')"
   ]
  },
  {
   "cell_type": "code",
   "execution_count": 17,
   "id": "ef516f59",
   "metadata": {},
   "outputs": [
    {
     "data": {
      "text/plain": [
       "32       Howl's Moving Castle\n",
       "43                      Ponyo\n",
       "47        Tales from Earthsea\n",
       "0     The Rescuers Down Under\n",
       "Name: title, dtype: object"
      ]
     },
     "execution_count": 17,
     "metadata": {},
     "output_type": "execute_result"
    }
   ],
   "source": [
    "recommend_movies_same_director('Ponyo')"
   ]
  },
  {
   "cell_type": "code",
   "execution_count": 18,
   "id": "c77a6538",
   "metadata": {},
   "outputs": [
    {
     "data": {
      "text/plain": [
       "42                         Up\n",
       "62                 Inside Out\n",
       "74                       Soul\n",
       "0     The Rescuers Down Under\n",
       "Name: title, dtype: object"
      ]
     },
     "execution_count": 18,
     "metadata": {},
     "output_type": "execute_result"
    }
   ],
   "source": [
    "recommend_movies_same_director('Monsters, Inc.')"
   ]
  },
  {
   "cell_type": "code",
   "execution_count": null,
   "id": "d385c694",
   "metadata": {},
   "outputs": [],
   "source": []
  }
 ],
 "metadata": {
  "kernelspec": {
   "display_name": "Python 3",
   "language": "python",
   "name": "python3"
  },
  "language_info": {
   "codemirror_mode": {
    "name": "ipython",
    "version": 3
   },
   "file_extension": ".py",
   "mimetype": "text/x-python",
   "name": "python",
   "nbconvert_exporter": "python",
   "pygments_lexer": "ipython3",
   "version": "3.8.8"
  }
 },
 "nbformat": 4,
 "nbformat_minor": 5
}
