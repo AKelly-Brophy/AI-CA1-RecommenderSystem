{
 "cells": [
  {
   "cell_type": "code",
   "execution_count": 1,
   "id": "65ffbcef",
   "metadata": {},
   "outputs": [],
   "source": [
    "import numpy as np\n",
    "import pandas as pd\n",
    "\n",
    "from sklearn.metrics.pairwise import cosine_similarity\n",
    "from sklearn.metrics import mean_squared_error\n",
    "from sklearn.model_selection import train_test_split\n",
    "from sklearn.feature_extraction.text import TfidfVectorizer\n",
    "from sklearn.metrics.pairwise import linear_kernel\n",
    "\n",
    "from ast import literal_eval\n",
    "\n",
    "from sklearn.feature_extraction.text import CountVectorizer\n",
    "\n",
    "movies = pd.read_csv('.\\\\ml-100k\\\\movies.csv')\n",
    "ratings = pd.read_csv('.\\\\ml-100k\\\\ratings.csv')\n",
    "tags = pd.read_csv('.\\\\ml-100k\\\\tags.csv')\n",
    "\n",
    "movies = movies[['movieId', 'title', 'genres']]\n",
    "\n",
    "#clean\n",
    "def clean_id(x):\n",
    "    try: \n",
    "        return int(x)\n",
    "    except:\n",
    "        return np.nan\n",
    "\n",
    "movies['movieId'] = movies['movieId'].apply(clean_id)\n",
    "movies = movies[movies['movieId'].notnull()]\n",
    "\n",
    "#convert to integers\n",
    "movies['movieId'] = movies['movieId'].astype('int')\n",
    "ratings['movieId'] = ratings['movieId'].astype('int')\n",
    "tags['movieId'] = tags['movieId'].astype('int')\n",
    "\n",
    "#merge dataframes into 1\n",
    "movies = movies.merge(ratings, on='movieId')\n",
    "movies = movies.merge(tags, on='movieId')"
   ]
  },
  {
   "cell_type": "code",
   "execution_count": null,
   "id": "2333e02a",
   "metadata": {},
   "outputs": [],
   "source": [
    "#now we have to change the columns into Python objects.\n",
    "\n",
    "movies['genres'] = movies['genres'].apply(literal_eval)\n",
    "movies['ratings'] = movies['ratings'].apply(literal_eval)\n",
    "movies['tags'] = movies['tags'].apply(literal_eval)\n",
    "\n",
    "#get the names of each genre attached to a movie\n",
    "movies['genres'] = movies['genres'].apply(lambda x: [i['name'].lower() for i in x])\n"
   ]
  }
 ],
 "metadata": {
  "kernelspec": {
   "display_name": "Python 3",
   "language": "python",
   "name": "python3"
  },
  "language_info": {
   "codemirror_mode": {
    "name": "ipython",
    "version": 3
   },
   "file_extension": ".py",
   "mimetype": "text/x-python",
   "name": "python",
   "nbconvert_exporter": "python",
   "pygments_lexer": "ipython3",
   "version": "3.8.8"
  }
 },
 "nbformat": 4,
 "nbformat_minor": 5
}
