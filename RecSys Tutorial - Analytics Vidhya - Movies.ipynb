{
 "cells": [
  {
   "cell_type": "code",
   "execution_count": 3,
   "id": "8b126ca7",
   "metadata": {},
   "outputs": [],
   "source": [
    "import numpy as np\n",
    "import pandas as pd\n",
    "\n",
    "from sklearn.metrics.pairwise import cosine_similarity\n",
    "from sklearn.metrics import mean_squared_error\n",
    "from sklearn.model_selection import train_test_split\n",
    "from sklearn.feature_extraction.text import TfidfVectorizer\n",
    "from sklearn.metrics.pairwise import linear_kernel\n",
    "\n",
    "#'movies' dataframe\n",
    "movies = pd.read_csv(\"C:\\\\Users\\\\Aisling\\\\Documents\\\\Python Exercises\\\\ml-100k\\\\movies.csv\")"
   ]
  },
  {
   "cell_type": "code",
   "execution_count": 5,
   "id": "3960d8ad",
   "metadata": {},
   "outputs": [
    {
     "data": {
      "text/plain": [
       "'Adventure|Animation|Children|Comedy|Fantasy'"
      ]
     },
     "execution_count": 5,
     "metadata": {},
     "output_type": "execute_result"
    }
   ],
   "source": [
    "movies['genres'][0]"
   ]
  },
  {
   "cell_type": "code",
   "execution_count": 6,
   "id": "f3628b0f",
   "metadata": {},
   "outputs": [
    {
     "data": {
      "text/plain": [
       "(9125, 23)"
      ]
     },
     "execution_count": 6,
     "metadata": {},
     "output_type": "execute_result"
    }
   ],
   "source": [
    "tfidf = TfidfVectorizer(stop_words='english')\n",
    "\n",
    "movies['genres'] = movies['genres'].fillna('')\n",
    "\n",
    "genres_matrix = tfidf.fit_transform(movies['genres'])\n",
    "genres_matrix.shape"
   ]
  },
  {
   "cell_type": "code",
   "execution_count": 7,
   "id": "f33968d6",
   "metadata": {},
   "outputs": [
    {
     "data": {
      "text/plain": [
       "array([[1.        , 0.80403568, 0.15641664, ..., 0.        , 0.26646851,\n",
       "        0.        ],\n",
       "       [0.80403568, 1.        , 0.        , ..., 0.        , 0.        ,\n",
       "        0.        ],\n",
       "       [0.15641664, 0.        , 1.        , ..., 0.        , 0.58699859,\n",
       "        0.        ],\n",
       "       ...,\n",
       "       [0.        , 0.        , 0.        , ..., 1.        , 0.        ,\n",
       "        1.        ],\n",
       "       [0.26646851, 0.        , 0.58699859, ..., 0.        , 1.        ,\n",
       "        0.        ],\n",
       "       [0.        , 0.        , 0.        , ..., 1.        , 0.        ,\n",
       "        1.        ]])"
      ]
     },
     "execution_count": 7,
     "metadata": {},
     "output_type": "execute_result"
    }
   ],
   "source": [
    "similarity_matrix = linear_kernel(genres_matrix, genres_matrix)\n",
    "similarity_matrix"
   ]
  },
  {
   "cell_type": "code",
   "execution_count": 8,
   "id": "5b903eb1",
   "metadata": {},
   "outputs": [
    {
     "data": {
      "text/plain": [
       "title\n",
       "Toy Story (1995)                                                0\n",
       "Jumanji (1995)                                                  1\n",
       "Grumpier Old Men (1995)                                         2\n",
       "Waiting to Exhale (1995)                                        3\n",
       "Father of the Bride Part II (1995)                              4\n",
       "                                                             ... \n",
       "Mohenjo Daro (2016)                                          9120\n",
       "Shin Godzilla (2016)                                         9121\n",
       "The Beatles: Eight Days a Week - The Touring Years (2016)    9122\n",
       "The Gay Desperado (1936)                                     9123\n",
       "Women of '69, Unboxed                                        9124\n",
       "Length: 9125, dtype: int64"
      ]
     },
     "execution_count": 8,
     "metadata": {},
     "output_type": "execute_result"
    }
   ],
   "source": [
    "#movies index mapping\n",
    "mapping = pd.Series(movies.index, index = movies['title'])\n",
    "\n",
    "mapping"
   ]
  },
  {
   "cell_type": "code",
   "execution_count": 9,
   "id": "4973ef01",
   "metadata": {},
   "outputs": [],
   "source": [
    "#class for recommending movies based on genres.\n",
    "\n",
    "def recommend_movies_basedon_genres(movie_input):\n",
    "    \n",
    "    movie_index = mapping[movie_input]\n",
    "    \n",
    "    #get similarity values with other movies\n",
    "    #similarity_score - list of indexes and similarity matrices\n",
    "    similarity_score = list(enumerate(similarity_matrix[movie_index]))\n",
    "    \n",
    "    #sort in descending order\n",
    "    similarity_score = sorted(similarity_score, key=lambda x: x[1], reverse=True)\n",
    "    \n",
    "    #scores of 15 most similar movies.\n",
    "    similarity_score = similarity_score[1:15]\n",
    "    \n",
    "    #return movie names using the mapping\n",
    "    movie_indices = [i[0] for i in similarity_score]\n",
    "    return (movies['title'].iloc[movie_indices])"
   ]
  },
  {
   "cell_type": "code",
   "execution_count": 11,
   "id": "360cc114",
   "metadata": {},
   "outputs": [
    {
     "data": {
      "text/plain": [
       "1815                                          Antz (1998)\n",
       "2506                                   Toy Story 2 (1999)\n",
       "3003       Adventures of Rocky and Bullwinkle, The (2000)\n",
       "3217                     Emperor's New Groove, The (2000)\n",
       "3805                                Monsters, Inc. (2001)\n",
       "6705                               Shrek the Third (2007)\n",
       "7146                       Tale of Despereaux, The (2008)\n",
       "7945    Asterix and the Vikings (Astérix et les Viking...\n",
       "8366                                         Turbo (2013)\n",
       "8676                                Boxtrolls, The (2014)\n",
       "8928                             The Good Dinosaur (2015)\n",
       "8911                                    Inside Out (2015)\n",
       "1594                           Black Cauldron, The (1985)\n",
       "1676                        Lord of the Rings, The (1978)\n",
       "Name: title, dtype: object"
      ]
     },
     "execution_count": 11,
     "metadata": {},
     "output_type": "execute_result"
    }
   ],
   "source": [
    "recommend_movies_basedon_genres('Toy Story (1995)')"
   ]
  },
  {
   "cell_type": "code",
   "execution_count": null,
   "id": "704ce825",
   "metadata": {},
   "outputs": [],
   "source": []
  }
 ],
 "metadata": {
  "kernelspec": {
   "display_name": "Python 3",
   "language": "python",
   "name": "python3"
  },
  "language_info": {
   "codemirror_mode": {
    "name": "ipython",
    "version": 3
   },
   "file_extension": ".py",
   "mimetype": "text/x-python",
   "name": "python",
   "nbconvert_exporter": "python",
   "pygments_lexer": "ipython3",
   "version": "3.8.8"
  }
 },
 "nbformat": 4,
 "nbformat_minor": 5
}
