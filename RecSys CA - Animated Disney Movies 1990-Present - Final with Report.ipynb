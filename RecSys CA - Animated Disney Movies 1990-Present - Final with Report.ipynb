{
 "cells": [
  {
   "cell_type": "markdown",
   "id": "7bb04f70",
   "metadata": {},
   "source": [
    "# Artificial Intelligence CA1 - Applications of AI and Recommender Systems"
   ]
  },
  {
   "cell_type": "markdown",
   "id": "44f44021",
   "metadata": {},
   "source": [
    "## Introduction\n",
    "\n",
    "Artificial intelligence can be found in various computer and web-based applications. Even a simple Google search utilises AI to an extent. Other everyday uses of AI range from autocorrect and e-payments to facial recognition and other biometrics, such as fingerprint scanners (Reeves, 2020).\n",
    "\n",
    "## Strengths and Limitations of Artificial Intelligence\n",
    "\n",
    "There are undoubtedly many benefits to AI in today's world. However, like anything, there are also limitations to its application, and several risk factors (Kumar, 2019).\n",
    "\n",
    "### Strengths of AI\n",
    "\n",
    "#### Strength 1: Reduction of Human Error\n",
    "\n",
    "Unlike humans, who make mistakes from time to time, computer systems do not make mistakes if they are programmed correctly. The AI system's decisions are solely based on previously gathered information and the application of a set of algorithms, reducing error and reaching a more accurate conclusion (Kumar, 2019).\n",
    "\n",
    "#### Strength 2: Reduction of Risk\n",
    "\n",
    "Humans are limited in what they can or can not do when it comes to risky undertakings, such as the defusing of bombs or mining. AI robots can be deployed in such risky environments to mitigate the risk to human life (Kumar, 2019).\n",
    "\n",
    "For example, at the time of the Chernobyl explosion, there were no AI agents to control the ensuing fire. It was difficult for humans to contain because on going too close, a fatal dose of radiation would be received. It is in these types of situation where AI robots could intervene in future (Kumar, 2019)\n",
    "\n",
    "#### Strength 3: Repetitive or Tiring Jobs\n",
    "\n",
    "AI agents can be deployed to perform menial, repetitive, or tiring jobs in the place of humans. Unlike humans, machines do not get bored, distracted, or tired if working for countless hours consecutively. They also think faster than humans and can perform various tasks at the same time, making them perfect for carrying out monotonous tasks (DataFlair, 2018).\n",
    "\n",
    "#### Strength 4: Daily Applications\n",
    "\n",
    "AI has made many areas of our daily lives easier. Applications such as Google search, or digital assistants such as Apple's Siri, can be used to access information both quickly and easily.\n",
    "\n",
    "For example, if looking for the fastest way to get from one particular place to another, one can simply ask their digital assistant of choice and it will pull up a map with directions, estimated travel time, and even traffic conditions if applicable (Kumar, 2019).\n",
    "\n",
    "### Limitations of AI\n",
    "\n",
    "However, there are many negative aspects to the increasing use of artificial intelligence. Fears have arisen in areas such as facial recognition, unemployment, and lack of emotion and creativity.\n",
    "\n",
    "#### Limitation 1: Ethics\n",
    "\n",
    "Certain AI applications, such as that of facial recognition, must be monitored to ensure they are not being misused, intentionally or not. A facial recognition device must be developed so that it prevents or minimises bias towards any person or group based on qualities such as race, gender, or deformities (Joshi, 2021). Facial recognition systems must also not be used to monitor any person or group, unless authorised to do so by a decisive governing body. Doing so is a violation of the victims' human rights and freedom (Joshi, 2021).\n",
    "\n",
    "#### Limitation 2: Unemployment\n",
    "\n",
    "There are fears that the increase in sophisticated AI systems could be used to replace humans completely in certain positions, causing widespread unemployment. AI is already replacing minimally-qualified individuals in certain areas, particularly those involving repetitive tasks (Kumar, 2019).\n",
    "\n",
    "#### Limitation 3: Lack of Emotion and/or Creativity\n",
    "\n",
    "Machines can not possess emotions and moral values. As such, they don't have the capacity to know what is ethical and/or legal and can not be completely trusted in their judgement (DataFlair, 2018). They also do not possess the capacity to think outside the box for creative problem-solving; they can only perform actions they are programmed to do (DataFlair, 2018).\n",
    "\n",
    "## Recommender Systems\n",
    "\n",
    "A common application of AI encountered in daily life is that of recommender systems. Recommender systems are everywhere - video sites such as YouTube and Netflix, music services such as Spotify, even Amazon, utilise these systems to recommend relevant content to their users.\n",
    "\n",
    "### What is a Recommender System?\n",
    "\n",
    "A recommender system is defined as an information filtering system that personalises the information fed to a user based on their interests, previous interactions, and relevance (Sharma, 2019). There are two types of recommender system: content-based and collaborative.\n",
    "\n",
    "#### Content-based Recommender Systems\n",
    "\n",
    "Content-based recommender systems rely on finding similarities between the features of items. For example, if a user liked a particular movie, a content-based recommender system will recommend movies with similar plots, themes, or actors. This works in the following manner:\n",
    "\n",
    "- Each item has its own item profile, detailing its properties.\n",
    "- Each property is listed in a table.\n",
    "- The features of each item are compared to find matches in content, and a similarity score is collected.\n",
    "- The highest scoring match will be provided to the user.\n",
    "\n",
    "It is important to note that this method relies on the features of an item exclusively - it does not utilise user preferences (Kirzhner, 2018).\n",
    "\n",
    "#### Collaborative Recommender Systems\n",
    "\n",
    "Collaborative recommender systems rely not on the features of each item, but how other users responded to them. To create such a system, a different approach must be taken:\n",
    "\n",
    "- A user table is created, listing various rated items that they liked.\n",
    "- A prediction is made based on what the user may like, based on the behaviour and choices of similar users.\n",
    "- The list is matched to users who chose the same items.\n",
    "- All of this information is taken in and a similarity score will be recommended.\n",
    "\n",
    "The collaborative method only works, however, if there is sufficient data provided beforehand to make recommendations. The more data there is available, the better the recommendations will be (Kirzhner, 2018)."
   ]
  },
  {
   "cell_type": "markdown",
   "id": "1803bcc0",
   "metadata": {},
   "source": [
    "## Content-based Recommender System: Walt Disney Animated Movies, 1990 - Present\n",
    "\n",
    "For this assignment, I used a modified version of the dataset walt_disney_movies.csv from https://www.kaggle.com/dikshabhati2002/walt-disney-movies. It has been modified to include only animated films, as well as to include only those dating from 1990 to the recently-released *Raya and the Last Dragon*. Plot overviews have also been added for ease of recommending similar movies.\n",
    "\n",
    "### Implementation\n",
    "\n",
    "*Various tutorials have been referred to during the creation of this recommender system. They are listed below:*\n",
    "\n",
    "*https://stackabuse.com/creating-a-simple-recommender-system-in-python-using-pandas/*\n",
    "\n",
    "*https://medium.com/analytics-vidhya/content-based-recommender-systems-in-python-2b330e01eb80*\n",
    "\n",
    "*https://heartbeat.comet.ml/recommender-systems-with-python-part-i-content-based-filtering-5df4940bd831*\n",
    "\n",
    "*https://www.kaggle.com/gspmoreira/recommender-systems-in-python-101/notebook*\n",
    "\n",
    "*https://www.datacamp.com/community/tutorials/markdown-in-jupyter-notebook*"
   ]
  },
  {
   "cell_type": "code",
   "execution_count": 1,
   "id": "8b126ca7",
   "metadata": {},
   "outputs": [],
   "source": [
    "#To output the desired results we first need to import the following libraries: NumPy, Pandas, and Scikit-learn\n",
    "\n",
    "import numpy as np\n",
    "import pandas as pd\n",
    "\n",
    "from sklearn.metrics.pairwise import cosine_similarity #this will be used to measure how similar our documents are\n",
    "from sklearn.metrics import mean_squared_error \n",
    "from sklearn.model_selection import train_test_split\n",
    "from sklearn.feature_extraction.text import TfidfVectorizer #this converts documents to a matrix of TF-IDF features\n",
    "from sklearn.metrics.pairwise import linear_kernel #kernels are a measure of similarity\n",
    "\n",
    "#Use Pandas to read the 'movies' dataframe - our selection of movies will come from the .csv file linked\n",
    "movies = pd.read_csv(\"C:\\\\Users\\\\Aisling\\\\Documents\\\\Python Exercises\\\\AI-CA1-RecommenderSystem\\\\walt_disney_animated_movies_1990_present.csv\")"
   ]
  },
  {
   "cell_type": "code",
   "execution_count": 2,
   "id": "704ce825",
   "metadata": {},
   "outputs": [
    {
     "data": {
      "text/plain": [
       "'The R.A.S. agents, Miss Bianca and Bernard, race to Australia to save a little boy and a rare golden eagle from a murderous poacher.'"
      ]
     },
     "execution_count": 2,
     "metadata": {},
     "output_type": "execute_result"
    }
   ],
   "source": [
    "#Outputs the data from the 'overview' column of the first item in the dataset, ie. at index 0\n",
    "movies['overview'][0]"
   ]
  },
  {
   "cell_type": "code",
   "execution_count": 3,
   "id": "bd4c7008",
   "metadata": {},
   "outputs": [
    {
     "data": {
      "text/plain": [
       "(76, 856)"
      ]
     },
     "execution_count": 3,
     "metadata": {},
     "output_type": "execute_result"
    }
   ],
   "source": [
    "##Recommend movies based on plot\n",
    "\n",
    "#We need to make sure we take out the \"stopwords\" found in the English language from our plot overviews - this will increase the accuracy of the predictions\n",
    "tfidf = TfidfVectorizer(stop_words='english')\n",
    "\n",
    "#This will be ussed to replace NA/NaN values with an empty character\n",
    "movies['overview'] = movies['overview'].fillna('')\n",
    "\n",
    "#Outputs the overview matrix\n",
    "overview_matrix = tfidf.fit_transform(movies['overview'])\n",
    "overview_matrix.shape"
   ]
  },
  {
   "cell_type": "code",
   "execution_count": 4,
   "id": "4db2f2cf",
   "metadata": {},
   "outputs": [
    {
     "data": {
      "text/plain": [
       "array([[1.        , 0.        , 0.        , ..., 0.        , 0.        ,\n",
       "        0.01591207],\n",
       "       [0.        , 1.        , 0.        , ..., 0.        , 0.        ,\n",
       "        0.04521675],\n",
       "       [0.        , 0.        , 1.        , ..., 0.        , 0.        ,\n",
       "        0.        ],\n",
       "       ...,\n",
       "       [0.        , 0.        , 0.        , ..., 1.        , 0.        ,\n",
       "        0.        ],\n",
       "       [0.        , 0.        , 0.        , ..., 0.        , 1.        ,\n",
       "        0.03248055],\n",
       "       [0.01591207, 0.04521675, 0.        , ..., 0.        , 0.03248055,\n",
       "        1.        ]])"
      ]
     },
     "execution_count": 4,
     "metadata": {},
     "output_type": "execute_result"
    }
   ],
   "source": [
    "#Show the similarity matrix\n",
    "similarity_matrix = linear_kernel(overview_matrix, overview_matrix)\n",
    "similarity_matrix"
   ]
  },
  {
   "cell_type": "code",
   "execution_count": 5,
   "id": "a6323636",
   "metadata": {},
   "outputs": [
    {
     "data": {
      "text/plain": [
       "(76, 120)"
      ]
     },
     "execution_count": 5,
     "metadata": {},
     "output_type": "execute_result"
    }
   ],
   "source": [
    "##Recommend movies based on director\n",
    "\n",
    "#This time, we do not need to filter out \"stopwords\"\n",
    "tfidf = TfidfVectorizer()\n",
    "\n",
    "#This will be ussed to replace NA/NaN values with an empty character\n",
    "movies['director'] = movies['director'].fillna('')\n",
    "\n",
    "#Outputs the director matrix\n",
    "dir_matrix = tfidf.fit_transform(movies['director'])\n",
    "dir_matrix.shape"
   ]
  },
  {
   "cell_type": "code",
   "execution_count": 6,
   "id": "da168f32",
   "metadata": {},
   "outputs": [
    {
     "data": {
      "text/plain": [
       "array([[1., 0., 0., ..., 0., 0., 0.],\n",
       "       [0., 1., 0., ..., 0., 0., 0.],\n",
       "       [0., 0., 1., ..., 0., 0., 0.],\n",
       "       ...,\n",
       "       [0., 0., 0., ..., 1., 0., 0.],\n",
       "       [0., 0., 0., ..., 0., 1., 0.],\n",
       "       [0., 0., 0., ..., 0., 0., 1.]])"
      ]
     },
     "execution_count": 6,
     "metadata": {},
     "output_type": "execute_result"
    }
   ],
   "source": [
    "#Show similarity matrix\n",
    "similarity_matrix_dir = linear_kernel(dir_matrix, dir_matrix)\n",
    "similarity_matrix_dir"
   ]
  },
  {
   "cell_type": "code",
   "execution_count": 7,
   "id": "d7e28f16",
   "metadata": {},
   "outputs": [
    {
     "data": {
      "text/plain": [
       "title\n",
       "The Rescuers Down Under      0\n",
       "Beauty and the Beast         1\n",
       "Aladdin                      2\n",
       "The Lion King                3\n",
       "A Goofy Movie                4\n",
       "                            ..\n",
       "Toy Story 4                 71\n",
       "Frozen II                   72\n",
       "Onward                      73\n",
       "Soul                        74\n",
       "Raya and the Last Dragon    75\n",
       "Length: 76, dtype: int64"
      ]
     },
     "execution_count": 7,
     "metadata": {},
     "output_type": "execute_result"
    }
   ],
   "source": [
    "#Movies index mapping - this will output the name and ID of each movie in order\n",
    "\n",
    "mapping = pd.Series(movies.index, index = movies['title'])\n",
    "mapping"
   ]
  },
  {
   "cell_type": "code",
   "execution_count": 8,
   "id": "1fb379ea",
   "metadata": {},
   "outputs": [],
   "source": [
    "#A Recommender class is created to house the functions needed to recommend movies to the user.\n",
    "\n",
    "class Recommender:\n",
    "    \n",
    "    #Recommends movies to the user based on similar plots.\n",
    "    def recommend_movies_basedon_plot(movie_input):\n",
    "        \n",
    "        #The index of each movie recommended should be the same as the mapping from before\n",
    "        movie_index = mapping[movie_input]\n",
    "    \n",
    "        #Get similarity values with other movies\n",
    "        similarity_score = list(enumerate(similarity_matrix[movie_index]))\n",
    "    \n",
    "        #Sort in descending order the similarity score of the movie inputted with the other movies\n",
    "        similarity_score = sorted(similarity_score, key=lambda x: x[1], reverse=True)\n",
    "    \n",
    "        #Get the scores of the 15 most similar movies\n",
    "        similarity_score = similarity_score[1:15]\n",
    "    \n",
    "        #Return movie names using the mapping series\n",
    "        movie_indices = [i[0] for i in similarity_score]\n",
    "        return (movies['title'].iloc[movie_indices])\n",
    "    \n",
    "    #Recommends movies to the user based on the same or similar directors.\n",
    "    def recommend_movies_same_director(movie_input):\n",
    "    \n",
    "        #Use mapping from earlier in code\n",
    "        movie_index = mapping[movie_input]\n",
    "    \n",
    "        #Get movies with the same director\n",
    "        similarity_score_dir = list(enumerate(similarity_matrix_dir[movie_index]))\n",
    "    \n",
    "        #Sort in descending order the similarity score of the movie inputted with the other movies\n",
    "        similarity_score_dir = sorted(similarity_score_dir, key=lambda x: x[1], reverse=True)\n",
    "    \n",
    "        #Get the scores of the 5 movies with same director\n",
    "        similarity_score_dir = similarity_score_dir[1:5]\n",
    "    \n",
    "        #Return movie names using the mapping series\n",
    "        movie_indices = [i[0] for i in similarity_score_dir]\n",
    "        return (movies['title'].iloc[movie_indices])\n",
    "    "
   ]
  },
  {
   "cell_type": "code",
   "execution_count": 9,
   "id": "dae1ab3d",
   "metadata": {},
   "outputs": [
    {
     "data": {
      "text/plain": [
       "19               Monsters, Inc.\n",
       "57          Monsters University\n",
       "22                Spirited Away\n",
       "48                      Tangled\n",
       "1          Beauty and the Beast\n",
       "6                     Toy Story\n",
       "47          Tales from Earthsea\n",
       "30              The Incredibles\n",
       "65                 Finding Dory\n",
       "74                         Soul\n",
       "63            The Good Dinosaur\n",
       "68                         Coco\n",
       "69                Incredibles 2\n",
       "70    Ralph Breaks the Internet\n",
       "Name: title, dtype: object"
      ]
     },
     "execution_count": 9,
     "metadata": {},
     "output_type": "execute_result"
    }
   ],
   "source": [
    "#Now we can test out the above functions by plugging in movies from the dataset.\n",
    "Recommender.recommend_movies_basedon_plot('Raya and the Last Dragon')"
   ]
  },
  {
   "cell_type": "code",
   "execution_count": 10,
   "id": "4d5e72fa",
   "metadata": {},
   "outputs": [
    {
     "data": {
      "text/plain": [
       "65                 Finding Dory\n",
       "4                 A Goofy Movie\n",
       "30              The Incredibles\n",
       "50                       Cars 2\n",
       "40                       WALL-E\n",
       "72                    Frozen II\n",
       "25           Piglet's Big Movie\n",
       "70    Ralph Breaks the Internet\n",
       "17         Recess: School's Out\n",
       "29            Home on the Range\n",
       "9                         Mulan\n",
       "0       The Rescuers Down Under\n",
       "10                 A Bug's Life\n",
       "69                Incredibles 2\n",
       "Name: title, dtype: object"
      ]
     },
     "execution_count": 10,
     "metadata": {},
     "output_type": "execute_result"
    }
   ],
   "source": [
    "Recommender.recommend_movies_basedon_plot('Bolt')"
   ]
  },
  {
   "cell_type": "code",
   "execution_count": 11,
   "id": "631db9df",
   "metadata": {},
   "outputs": [
    {
     "data": {
      "text/plain": [
       "70    Ralph Breaks the Internet\n",
       "58                       Planes\n",
       "73                       Onward\n",
       "3                 The Lion King\n",
       "8                      Hercules\n",
       "45    The Princess and the Frog\n",
       "67                       Cars 3\n",
       "31       Pooh's Heffalump Movie\n",
       "1          Beauty and the Beast\n",
       "26                 Finding Nemo\n",
       "25           Piglet's Big Movie\n",
       "54                        Brave\n",
       "61                   Big Hero 6\n",
       "33                      Valiant\n",
       "Name: title, dtype: object"
      ]
     },
     "execution_count": 11,
     "metadata": {},
     "output_type": "execute_result"
    }
   ],
   "source": [
    "Recommender.recommend_movies_basedon_plot('Wreck-It Ralph')"
   ]
  },
  {
   "cell_type": "code",
   "execution_count": 12,
   "id": "ddc3a8a5",
   "metadata": {},
   "outputs": [
    {
     "data": {
      "text/plain": [
       "12                      Tarzan\n",
       "30             The Incredibles\n",
       "27                Brother Bear\n",
       "65                Finding Dory\n",
       "75    Raya and the Last Dragon\n",
       "72                   Frozen II\n",
       "63           The Good Dinosaur\n",
       "67                      Cars 3\n",
       "58                      Planes\n",
       "62                  Inside Out\n",
       "52                    Arrietty\n",
       "20        Return to Never Land\n",
       "22               Spirited Away\n",
       "54                       Brave\n",
       "Name: title, dtype: object"
      ]
     },
     "execution_count": 12,
     "metadata": {},
     "output_type": "execute_result"
    }
   ],
   "source": [
    "Recommender.recommend_movies_basedon_plot('Tangled')"
   ]
  },
  {
   "cell_type": "code",
   "execution_count": 13,
   "id": "117d8134",
   "metadata": {},
   "outputs": [
    {
     "data": {
      "text/plain": [
       "29              Home on the Range\n",
       "62                     Inside Out\n",
       "19                 Monsters, Inc.\n",
       "0         The Rescuers Down Under\n",
       "1            Beauty and the Beast\n",
       "2                         Aladdin\n",
       "3                   The Lion King\n",
       "4                   A Goofy Movie\n",
       "5                      Pocahontas\n",
       "6                       Toy Story\n",
       "7     The Hunchback of Notre Dame\n",
       "8                        Hercules\n",
       "9                           Mulan\n",
       "10                   A Bug's Life\n",
       "Name: title, dtype: object"
      ]
     },
     "execution_count": 13,
     "metadata": {},
     "output_type": "execute_result"
    }
   ],
   "source": [
    "Recommender.recommend_movies_basedon_plot('Zootopia')"
   ]
  },
  {
   "cell_type": "code",
   "execution_count": 14,
   "id": "518555e5",
   "metadata": {},
   "outputs": [
    {
     "data": {
      "text/plain": [
       "41                       Bolt\n",
       "64                   Zootopia\n",
       "0     The Rescuers Down Under\n",
       "1        Beauty and the Beast\n",
       "Name: title, dtype: object"
      ]
     },
     "execution_count": 14,
     "metadata": {},
     "output_type": "execute_result"
    }
   ],
   "source": [
    "#Again we can test out the Recommender functions - this time we will test the \"Director\" function instead of \"Plot\"\n",
    "Recommender.recommend_movies_same_director('Tangled')"
   ]
  },
  {
   "cell_type": "code",
   "execution_count": 15,
   "id": "a4629265",
   "metadata": {},
   "outputs": [
    {
     "data": {
      "text/plain": [
       "10    A Bug's Life\n",
       "13     Toy Story 2\n",
       "36            Cars\n",
       "50          Cars 2\n",
       "Name: title, dtype: object"
      ]
     },
     "execution_count": 15,
     "metadata": {},
     "output_type": "execute_result"
    }
   ],
   "source": [
    "Recommender.recommend_movies_same_director('Toy Story')"
   ]
  },
  {
   "cell_type": "code",
   "execution_count": 16,
   "id": "ef516f59",
   "metadata": {},
   "outputs": [
    {
     "data": {
      "text/plain": [
       "32       Howl's Moving Castle\n",
       "43                      Ponyo\n",
       "47        Tales from Earthsea\n",
       "0     The Rescuers Down Under\n",
       "Name: title, dtype: object"
      ]
     },
     "execution_count": 16,
     "metadata": {},
     "output_type": "execute_result"
    }
   ],
   "source": [
    "Recommender.recommend_movies_same_director('Ponyo')"
   ]
  },
  {
   "cell_type": "code",
   "execution_count": 17,
   "id": "c77a6538",
   "metadata": {},
   "outputs": [
    {
     "data": {
      "text/plain": [
       "42                         Up\n",
       "62                 Inside Out\n",
       "74                       Soul\n",
       "0     The Rescuers Down Under\n",
       "Name: title, dtype: object"
      ]
     },
     "execution_count": 17,
     "metadata": {},
     "output_type": "execute_result"
    }
   ],
   "source": [
    "Recommender.recommend_movies_same_director('Monsters, Inc.')"
   ]
  },
  {
   "cell_type": "markdown",
   "id": "e9ee66b0",
   "metadata": {},
   "source": [
    "## References\n",
    "\n",
    "DataFlair. (2018, January 16). Pros and Cons of Artificial Intelligence - A Threat or a Blessing? - DataFlair. Retrieved October 27, 2021, from DataFlair website: https://data-flair.training/blogs/artificial-intelligence-advantages-disadvantages/\n",
    "\n",
    "Garodia, S. (2020a, January 2). Content-based Recommender Systems in Python - Analytics Vidhya - Medium. Retrieved October 26, 2021, from Medium website: https://medium.com/analytics-vidhya/content-based-recommender-systems-in-python-2b330e01eb80\n",
    "\n",
    "Garodia, S. (2020b, January 2). Metadata-based Recommender Systems in Python - Analytics Vidhya - Medium. Retrieved October 26, 2021, from Medium website: https://medium.com/analytics-vidhya/metadata-based-recommender-systems-in-python-c6aae213b25c\n",
    "\n",
    "Joshi, N. (2021, May 19). Ethics and Errors of Facial Recognition Technology. Retrieved October 27, 2021, from Allerin.com website: https://www.allerin.com/blog/ethics-and-errors-of-facial-recognition-technology\n",
    "\n",
    "Kirzhner, E. (2018, May 8). Machine Learning. Explanation of Collaborative Filtering vs Content Based Filtering. Retrieved October 27, 2021, from Medium website: https://codeburst.io/explanation-of-recommender-systems-in-information-retrieval-13077e1d916c\n",
    "\n",
    "Kumar, S. (2019, November 25). Advantages and Disadvantages of Artificial Intelligence. Retrieved October 27, 2021, from Medium website: https://towardsdatascience.com/advantages-and-disadvantages-of-artificial-intelligence-182a5ef6588c\n",
    "\n",
    "Malik, U. (2018, September 14). Creating a Simple Recommender System in Python using Pandas. Retrieved October 14, 2021, from Stack Abuse website: https://stackabuse.com/creating-a-simple-recommender-system-in-python-using-pandas/\n",
    "\n",
    "Moreira, G. (2019, December 8). Recommender Systems in Python 101. Retrieved October 26, 2021, from Kaggle.com website: https://www.kaggle.com/gspmoreira/recommender-systems-in-python-101/notebook\n",
    "\n",
    "Reeves, S. (2020, May 5). 8 Helpful Everyday Examples of Artificial Intelligence. Retrieved October 17, 2021, from IoT For All website: https://www.iotforall.com/8-helpful-everyday-examples-of-artificial-intelligence\n",
    "\n",
    "Sharma, N. (2019, August 22). Recommender Systems with Python — Part I: Content-Based Filtering. Retrieved October 26, 2021, from Medium website: https://heartbeat.comet.ml/recommender-systems-with-python-part-i-content-based-filtering-5df4940bd831\n",
    "\n",
    "Smith, O. (2019). Jupyter Notebook Markdown Tutorial. Retrieved October 26, 2021, from DataCamp Community website: https://www.datacamp.com/community/tutorials/markdown-in-jupyter-notebook\n",
    "\n",
    "Zhang, Q., Lu, J., & Jin, Y. (2020). Artificial intelligence in recommender systems. Complex & Intelligent Systems, 7(1), 439–457. https://doi.org/10.1007/s40747-020-00212-w"
   ]
  }
 ],
 "metadata": {
  "kernelspec": {
   "display_name": "Python 3",
   "language": "python",
   "name": "python3"
  },
  "language_info": {
   "codemirror_mode": {
    "name": "ipython",
    "version": 3
   },
   "file_extension": ".py",
   "mimetype": "text/x-python",
   "name": "python",
   "nbconvert_exporter": "python",
   "pygments_lexer": "ipython3",
   "version": "3.8.8"
  }
 },
 "nbformat": 4,
 "nbformat_minor": 5
}
